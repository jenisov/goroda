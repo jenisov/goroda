{
  "metadata": {
    "kernelspec": {
      "name": "python",
      "display_name": "Python (Pyodide)",
      "language": "python"
    },
    "language_info": {
      "codemirror_mode": {
        "name": "python",
        "version": 3
      },
      "file_extension": ".py",
      "mimetype": "text/x-python",
      "name": "python",
      "nbconvert_exporter": "python",
      "pygments_lexer": "ipython3",
      "version": "3.8"
    }
  },
  "nbformat_minor": 5,
  "nbformat": 4,
  "cells": [
    {
      "id": "e91bec4c-b8bf-44e1-9659-0bb223ce9884",
      "cell_type": "code",
      "source": "name = input(\"Как тебя зовут? \")\nage = int(input(\"Сколько тебе лет? \"))\n\nprint(f\"Привет, {name}!\")\nprint(f\"Через 10 лет тебе будет {age + 10} лет\")\n",
      "metadata": {
        "trusted": true
      },
      "outputs": [
        {
          "output_type": "stream",
          "name": "stdin",
          "text": "Как тебя зовут?  Илья\nСколько тебе лет?  13\n"
        },
        {
          "name": "stdout",
          "output_type": "stream",
          "text": "Привет, Илья!\nЧерез 10 лет тебе будет 23 лет\n"
        }
      ],
      "execution_count": 2
    },
    {
      "id": "f09c15cb-87c6-4ca6-8147-b15930aefca2",
      "cell_type": "code",
      "source": "if age < 13:\n    print(\"Вы ребенок\")\nelif age < 18:\n    print(\"Вы подросток\")\nelif age < 65:\n    print(\"Вы взрослый\")\nelse:\n    print(\"Вы пенсионер\")\n",
      "metadata": {
        "trusted": true
      },
      "outputs": [
        {
          "name": "stdout",
          "output_type": "stream",
          "text": "Вы подросток\nВы взрослый\n"
        }
      ],
      "execution_count": 6
    },
    {
      "id": "a0beebb0-5ac6-4b2c-a375-f7d387e528a4",
      "cell_type": "code",
      "source": "print(\"Цикл for с range:\")\nfor i in range(5): \n    print(f\"Итерация {i}\")\n\nprint(\"\\nЦикл for со списком:\")\nfruits = [\"яблоко\", \"банан\", \"апельсин\", 1, 3/2, enumerate(fruits)]\nfor fruit in fruits:\n    print(f\"Фрукт: {fruit}\")\n\nprint(\"\\nЦикл for с enumerate:\")\nfor index, fruit in enumerate(fruits): \n    print(f\"{index}: {fruit}\")\n\n# Цикл while\nprint(\"\\nЦикл while:\")\ncount = 0\nwhile count < 5:\n    print(f\"Счетчик: {count}\")\n    count += 1\n\n",
      "metadata": {
        "trusted": true
      },
      "outputs": [
        {
          "name": "stdout",
          "output_type": "stream",
          "text": "Цикл for с range:\nИтерация 0\nИтерация 1\nИтерация 2\nИтерация 3\nИтерация 4\n\nЦикл for со списком:\nФрукт: яблоко\nФрукт: банан\nФрукт: апельсин\nФрукт: 1\nФрукт: 1.5\nФрукт: <enumerate object at 0x27957b8>\n\nЦикл for с enumerate:\n0: яблоко\n1: банан\n2: апельсин\n3: 1\n4: 1.5\n5: <enumerate object at 0x27957b8>\n\nЦикл while:\nСчетчик: 0\nСчетчик: 1\nСчетчик: 2\nСчетчик: 3\nСчетчик: 4\n"
        }
      ],
      "execution_count": 8
    },
    {
      "id": "624096c0-3b24-4221-9223-bb311f7bbba9",
      "cell_type": "code",
      "source": "numbers = [1, 2, 3, 4, 5]\nnames = [\"Анна\", \"Петр\", \"Мария\"]\nmixed = [1, \"hello\", 3.14, True]\n\nprint(\"Исходный список:\", numbers)\n\n# Добавление элементов\nnumbers.append(6)\nnumbers.insert(0, 0)  # Вставить в начало\nprint(\"После добавления:\", numbers)\n\n# Удаление элементов\nnumbers.remove(3)  # Удалить по значению\ndeleted = numbers.pop()  # Удалить последний\nprint(f\"После удаления 3 и последнего элемента ({deleted}):\", numbers)\n\n# Срезы\nprint(\"Первые 3 элемента:\", numbers[:3])\nprint(\"Последние 3 элемента:\", numbers[-3:])\nprint(\"Каждый второй элемент:\", numbers[::2])\n\n# Методы списков\nnumbers.sort()\nprint(\"Отсортированный список:\", numbers)\n\nnumbers.reverse()\nprint(\"Обращенный список:\", numbers)\n\n# Список comprehension\nsquares = [x + age for x in range(1, 6)]\nprint(\"Квадраты чисел от 1 до 5:\", squares)\n\neven_squares = [x**2 for x in range(1, 11) if x % 2 == 0]\nprint(\"Квадраты четных чисел от 1 до 10:\", even_squares)\n",
      "metadata": {
        "trusted": true
      },
      "outputs": [
        {
          "name": "stdout",
          "output_type": "stream",
          "text": "Исходный список: [1, 2, 3, 4, 5]\nПосле добавления: [0, 1, 2, 3, 4, 5, 6]\nПосле удаления 3 и последнего элемента (6): [0, 1, 2, 4, 5]\nПервые 3 элемента: [0, 1, 2]\nПоследние 3 элемента: [2, 4, 5]\nКаждый второй элемент: [0, 2, 5]\nОтсортированный список: [0, 1, 2, 4, 5]\nОбращенный список: <enumerate object at 0x221dd68>\nКвадраты чисел от 1 до 5: [14, 15, 16, 17, 18]\nКвадраты четных чисел от 1 до 10: [4, 16, 36, 64, 100]\n"
        }
      ],
      "execution_count": 14
    },
    {
      "id": "f7290425-631c-4d3f-aa2c-a44957853788",
      "cell_type": "code",
      "source": "",
      "metadata": {
        "trusted": true
      },
      "outputs": [],
      "execution_count": null
    }
  ]
}