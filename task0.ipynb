{
 "cells": [
  {
   "cell_type": "code",
   "execution_count": 1,
   "id": "e91bec4c-b8bf-44e1-9659-0bb223ce9884",
   "metadata": {},
   "outputs": [
    {
     "name": "stdin",
     "output_type": "stream",
     "text": [
      "Как тебя зовут?  Я\n",
      "Сколько тебе лет?  100\n"
     ]
    },
    {
     "name": "stdout",
     "output_type": "stream",
     "text": [
      "Привет, Я!\n",
      "Через 10 лет тебе будет 110 лет\n"
     ]
    }
   ],
   "source": [
    "name = input(\"Как тебя зовут? \")\n",
    "age = int(input(\"Сколько тебе лет? \"))\n",
    "\n",
    "print(f\"Привет, {name}!\")\n",
    "print(f\"Через 10 лет тебе будет {age + 10} лет\")\n"
   ]
  },
  {
   "cell_type": "code",
   "execution_count": 2,
   "id": "f09c15cb-87c6-4ca6-8147-b15930aefca2",
   "metadata": {},
   "outputs": [
    {
     "name": "stdout",
     "output_type": "stream",
     "text": [
      "Вы пенсионер\n"
     ]
    }
   ],
   "source": [
    "if age < 13:\n",
    "    print(\"Вы ребенок\")\n",
    "elif age < 18:\n",
    "    print(\"Вы подросток\")\n",
    "elif age < 65:\n",
    "    print(\"Вы взрослый\")\n",
    "else:\n",
    "    print(\"Вы пенсионер\")\n"
   ]
  },
  {
   "cell_type": "code",
   "execution_count": 3,
   "id": "a0beebb0-5ac6-4b2c-a375-f7d387e528a4",
   "metadata": {},
   "outputs": [
    {
     "name": "stdout",
     "output_type": "stream",
     "text": [
      "Цикл for с range:\n",
      "Итерация 0\n",
      "Итерация 1\n",
      "Итерация 2\n",
      "Итерация 3\n",
      "Итерация 4\n",
      "\n",
      "Цикл for со списком:\n",
      "Фрукт: яблоко\n",
      "Фрукт: банан\n",
      "Фрукт: апельсин\n",
      "\n",
      "Цикл for с enumerate:\n",
      "0: яблоко\n",
      "1: банан\n",
      "2: апельсин\n",
      "\n",
      "Цикл while:\n",
      "Счетчик: 0\n",
      "Счетчик: 1\n",
      "Счетчик: 2\n",
      "Счетчик: 3\n",
      "Счетчик: 4\n"
     ]
    }
   ],
   "source": [
    "print(\"Цикл for с range:\")\n",
    "for i in range(5): \n",
    "    print(f\"Итерация {i}\")\n",
    "\n",
    "print(\"\\nЦикл for со списком:\")\n",
    "fruits = [\"яблоко\", \"банан\", \"апельсин\"]\n",
    "for fruit in fruits:\n",
    "    print(f\"Фрукт: {fruit}\")\n",
    "\n",
    "print(\"\\nЦикл for с enumerate:\")\n",
    "for index, fruit in enumerate(fruits): \n",
    "    print(f\"{index}: {fruit}\")\n",
    "\n",
    "# Цикл while\n",
    "print(\"\\nЦикл while:\")\n",
    "count = 0\n",
    "while count < 5:\n",
    "    print(f\"Счетчик: {count}\")\n",
    "    count += 1"
   ]
  },
  {
   "cell_type": "code",
   "execution_count": 4,
   "id": "624096c0-3b24-4221-9223-bb311f7bbba9",
   "metadata": {},
   "outputs": [
    {
     "name": "stdout",
     "output_type": "stream",
     "text": [
      "Исходный список: [1, 2, 3, 4, 5]\n",
      "После добавления: [0, 1, 2, 3, 4, 5, 6]\n",
      "После удаления 3 и последнего элемента (6): [0, 1, 2, 4, 5]\n",
      "Первые 3 элемента: [0, 1, 2]\n",
      "Последние 3 элемента: [2, 4, 5]\n",
      "Каждый второй элемент: [0, 2, 5]\n",
      "Отсортированный список: [0, 1, 2, 4, 5]\n",
      "Обращенный список: [5, 4, 2, 1, 0]\n",
      "Квадраты чисел от 1 до 5: [101, 102, 103, 104, 105]\n",
      "Квадраты четных чисел от 1 до 10: [4, 16, 36, 64, 100]\n"
     ]
    }
   ],
   "source": [
    "numbers = [1, 2, 3, 4, 5]\n",
    "names = [\"Анна\", \"Петр\", \"Мария\"]\n",
    "mixed = [1, \"hello\", 3.14, True]\n",
    "\n",
    "print(\"Исходный список:\", numbers)\n",
    "\n",
    "# Добавление элементов\n",
    "numbers.append(6)\n",
    "numbers.insert(0, 0)  # Вставить в начало\n",
    "print(\"После добавления:\", numbers)\n",
    "\n",
    "# Удаление элементов\n",
    "numbers.remove(3)  # Удалить по значению\n",
    "deleted = numbers.pop()  # Удалить последний\n",
    "print(f\"После удаления 3 и последнего элемента ({deleted}):\", numbers)\n",
    "\n",
    "# Срезы\n",
    "print(\"Первые 3 элемента:\", numbers[:3])\n",
    "print(\"Последние 3 элемента:\", numbers[-3:])\n",
    "print(\"Каждый второй элемент:\", numbers[::2])\n",
    "\n",
    "# Методы списков\n",
    "numbers.sort()\n",
    "print(\"Отсортированный список:\", numbers)\n",
    "\n",
    "numbers.reverse()\n",
    "print(\"Обращенный список:\", numbers)\n",
    "\n",
    "# Список comprehension\n",
    "squares = [x + age for x in range(1, 6)]\n",
    "print(\"Квадраты чисел от 1 до 5:\", squares)\n",
    "\n",
    "even_squares = [x**2 for x in range(1, 11) if x % 2 == 0]\n",
    "print(\"Квадраты четных чисел от 1 до 10:\", even_squares)\n"
   ]
  },
  {
   "cell_type": "code",
   "execution_count": null,
   "id": "f7290425-631c-4d3f-aa2c-a44957853788",
   "metadata": {},
   "outputs": [],
   "source": []
  }
 ],
 "metadata": {
  "kernelspec": {
   "display_name": "Python 3 (ipykernel)",
   "language": "python",
   "name": "python3"
  },
  "language_info": {
   "codemirror_mode": {
    "name": "ipython",
    "version": 3
   },
   "file_extension": ".py",
   "mimetype": "text/x-python",
   "name": "python",
   "nbconvert_exporter": "python",
   "pygments_lexer": "ipython3",
   "version": "3.10.19"
  }
 },
 "nbformat": 4,
 "nbformat_minor": 5
}
