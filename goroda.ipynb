{
 "cells": [
  {
   "cell_type": "code",
   "execution_count": 2,
   "id": "ef8a1ff8-efe3-4dc1-9e97-99e390824648",
   "metadata": {},
   "outputs": [],
   "source": [
    "import pandas as pd"
   ]
  },
  {
   "cell_type": "code",
   "execution_count": 6,
   "id": "d7b195ea-cccb-48df-9a8d-0e187b965954",
   "metadata": {},
   "outputs": [],
   "source": [
    "df = pd.read_excel('03_all_cities.xlsx', sheet_name='cities')"
   ]
  },
  {
   "cell_type": "code",
   "execution_count": 7,
   "id": "a1553171-bb19-49a0-a7c0-c1ddda3f4308",
   "metadata": {},
   "outputs": [],
   "source": [
    "column_data = df['city']"
   ]
  },
  {
   "cell_type": "code",
   "execution_count": 8,
   "id": "058e3278-60f6-43ed-8f53-89f76735f4a4",
   "metadata": {},
   "outputs": [
    {
     "name": "stdout",
     "output_type": "stream",
     "text": [
      "0           Советский\n",
      "1             Шенджий\n",
      "2             Ханская\n",
      "3            Гатлукай\n",
      "4             Псекупс\n",
      "5            Адыгейск\n",
      "6             Косинов\n",
      "7            Хачемзий\n",
      "8             Вольное\n",
      "9    Новоалексеевский\n",
      "Name: city, dtype: object\n"
     ]
    }
   ],
   "source": [
    "print(column_data[:10])"
   ]
  },
  {
   "cell_type": "code",
   "execution_count": 11,
   "id": "830e6fd5-90ec-4b34-976f-46b200b648c8",
   "metadata": {},
   "outputs": [
    {
     "name": "stdout",
     "output_type": "stream",
     "text": [
      "Кошехабль\n"
     ]
    }
   ],
   "source": [
    "print(column_data[10])"
   ]
  },
  {
   "cell_type": "code",
   "execution_count": null,
   "id": "7d92c877-7b11-4b9d-bf90-2298875b7ae2",
   "metadata": {},
   "outputs": [],
   "source": []
  }
 ],
 "metadata": {
  "kernelspec": {
   "display_name": "Python 3 (ipykernel)",
   "language": "python",
   "name": "python3"
  },
  "language_info": {
   "codemirror_mode": {
    "name": "ipython",
    "version": 3
   },
   "file_extension": ".py",
   "mimetype": "text/x-python",
   "name": "python",
   "nbconvert_exporter": "python",
   "pygments_lexer": "ipython3",
   "version": "3.10.19"
  }
 },
 "nbformat": 4,
 "nbformat_minor": 5
}
